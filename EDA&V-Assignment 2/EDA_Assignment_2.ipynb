{
 "cells": [
  {
   "cell_type": "markdown",
   "metadata": {
    "_uuid": "f9641558236566bc4515b86271f69b2934afe7a9"
   },
   "source": [
    "**Answer the following questions for the given US census data.**\n",
    "\n",
    "Instructions:\n",
    "- Drop duplicate records if present.\n",
    "- Create visualizations where ever necessary.\n",
    "- Submit your work in Jupyter Notebook and in HTML format with all the results.\n",
    "\n",
    "\n",
    "\n",
    "\n",
    "\n",
    "**Data Dictionary:**\n",
    "\n",
    "Unique values of features:\n",
    "- `age`: continuous.\n",
    "- `workclass`: Private, Self-emp-not-inc, Self-emp-inc, Federal-gov, Local-gov, State-gov, Without-pay, Never-worked.\n",
    "- `fnlwgt`: continuous.\n",
    "- `education`: Bachelors, Some-college, 11th, HS-grad, Prof-school, Assoc-acdm, Assoc-voc, 9th, 7th-8th, 12th, Masters, 1st-4th, 10th, Doctorate, 5th-6th, Preschool.\n",
    "- `education-num`: continuous.\n",
    "- `marital-status`: Married-civ-spouse, Divorced, Never-married, Separated, Widowed, Married-spouse-absent, Married-AF-spouse.\n",
    "- `occupation`: Tech-support, Craft-repair, Other-service, Sales, Exec-managerial, Prof-specialty, Handlers-cleaners, Machine-op-inspct, Adm-clerical, Farming-fishing, Transport-moving, Priv-house-serv, Protective-serv, Armed-Forces.\n",
    "- `relationship`: Wife, Own-child, Husband, Not-in-family, Other-relative, Unmarried.\n",
    "- `race`: White, Asian-Pac-Islander, Amer-Indian-Eskimo, Other, Black.\n",
    "- `sex`: Female, Male.\n",
    "- `capital-gain`: continuous.\n",
    "- `capital-loss`: continuous.\n",
    "- `hours-per-week`: continuous.\n",
    "- `native-country`: United-States, Cambodia, England, Puerto-Rico, Canada, Germany, Outlying-US(Guam-USVI-etc), India, Japan, Greece, South, China, Cuba, Iran, Honduras, Philippines, Italy, Poland, Jamaica, Vietnam, Mexico, Portugal, Ireland, France, Dominican-Republic, Laos, Ecuador, Taiwan, Haiti, Columbia, Hungary, Guatemala, Nicaragua, Scotland, Thailand, Yugoslavia, El-Salvador, Trinadad&Tobago, Peru, Hong, Holand-Netherlands.   \n",
    "- `salary`: >50K,<=50K"
   ]
  },
  {
   "cell_type": "markdown",
   "metadata": {
    "_uuid": "91ae74b07f8d0f10549b2feb55dc39886a601820"
   },
   "source": [
    "**1. How many men and women (*sex* feature) are represented in this dataset?** "
   ]
  },
  {
   "cell_type": "markdown",
   "metadata": {
    "_uuid": "a5d127ecc8d050395077b5a1c0b14d97d93cacc9"
   },
   "source": [
    "**2. What is the average age (*age* feature) of women?**"
   ]
  },
  {
   "cell_type": "markdown",
   "metadata": {
    "_uuid": "ada771f6ca96842c828ab872caa28ffa79774482"
   },
   "source": [
    "**3. What is the proportion of German citizens (*native-country* feature)?**"
   ]
  },
  {
   "cell_type": "markdown",
   "metadata": {
    "_uuid": "33938b38d3bcf5651b2b6cb4b77ffee764847aa8"
   },
   "source": [
    "**4-5. What are mean value and standard deviation of the age of those who recieve more than 50K per year (*salary* feature) and those who receive less than 50K per year?**"
   ]
  },
  {
   "cell_type": "markdown",
   "metadata": {
    "_uuid": "bce4b94a99843606b948b70f5502035223b9b7ba"
   },
   "source": [
    "**6. Is it true that people who receive more than 50k have at least high school education? (*education - Bachelors, Prof-school, Assoc-acdm, Assoc-voc, Masters* or *Doctorate* feature)**"
   ]
  },
  {
   "cell_type": "markdown",
   "metadata": {
    "_uuid": "b50e3e7bdbb660bdaeed0ab41c1f7ea774a04a60"
   },
   "source": [
    "**7. Display statistics of age for each race (*race* feature) and each gender. Use *groupby()* and *describe()*. Find the maximum age of men of *Amer-Indian-Eskimo* race.**"
   ]
  },
  {
   "cell_type": "markdown",
   "metadata": {
    "_uuid": "94c7cf8d903653f4f661e079fc84513f61752e57"
   },
   "source": [
    "**8. Among whom the proportion of those who earn a lot(>50K) is more: among married or single men (*marital-status* feature)? Consider married those who have a *marital-status* starting with *Married* (Married-civ-spouse, Married-spouse-absent or Married-AF-spouse), the rest are considered bachelors.**"
   ]
  },
  {
   "cell_type": "markdown",
   "metadata": {
    "_uuid": "5b47a6400f1deb4d122ed032bc7636200bea288e"
   },
   "source": [
    "**9. What is the maximum number of hours a person works per week (*hours-per-week* feature)? How many people work such a number of hours and what is the percentage of those who earn a lot among them?**"
   ]
  },
  {
   "cell_type": "markdown",
   "metadata": {
    "_uuid": "8a69b6fa35a32c4da77aebf257aacad41335a4b0"
   },
   "source": [
    "**10. Count the average time of work (*hours-per-week*) those who earning a little and a lot (*salary*) for each country (*native-country*).**\n"
   ]
  },
  {
   "cell_type": "markdown",
   "metadata": {},
   "source": [
    "**11. Which workclass gets the highest salary?**\n",
    "\n",
    "\n",
    "**12. Draw your own insights from the given data apart from the given list of questions.**"
   ]
  },
  {
   "cell_type": "code",
   "execution_count": null,
   "metadata": {},
   "outputs": [],
   "source": []
  }
 ],
 "metadata": {
  "kernelspec": {
   "display_name": "Python 3 (ipykernel)",
   "language": "python",
   "name": "python3"
  },
  "language_info": {
   "codemirror_mode": {
    "name": "ipython",
    "version": 3
   },
   "file_extension": ".py",
   "mimetype": "text/x-python",
   "name": "python",
   "nbconvert_exporter": "python",
   "pygments_lexer": "ipython3",
   "version": "3.9.12"
  }
 },
 "nbformat": 4,
 "nbformat_minor": 4
}
